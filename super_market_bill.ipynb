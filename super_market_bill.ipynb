{
 "cells": [
  {
   "cell_type": "code",
   "execution_count": 1,
   "id": "f9e84427-72f5-4f4a-8a15-3f6480c24154",
   "metadata": {
    "tags": []
   },
   "outputs": [],
   "source": [
    "from datetime import datetime"
   ]
  },
  {
   "cell_type": "code",
   "execution_count": 2,
   "id": "22207097-2540-4f07-8522-d4f4072ae486",
   "metadata": {
    "tags": []
   },
   "outputs": [
    {
     "name": "stdin",
     "output_type": "stream",
     "text": [
      "Enter EMP Name: adi\n",
      "buy or exit: 1\n",
      "enter items: milk\n",
      "enter quantity: 2\n",
      "buy or exit: 1\n",
      "enter items: rice\n",
      "enter quantity: 2\n",
      "buy or exit: 1\n",
      "enter items: curd\n",
      "enter quantity: 1\n",
      "buy or exit: 1\n",
      "enter items: oats\n",
      "enter quantity: 2\n",
      "buy or exit: 2\n"
     ]
    },
    {
     "name": "stdout",
     "output_type": "stream",
     "text": [
      "                               ============================ WELCOME TO HYPER MARKET ============================                               \n",
      "                                                                 Visakhapatnam\n",
      "  Emp_name: adi                                                                                                      Date: 2024-02-12 17:29:14.341061\n",
      "  ------------------------------------------------------------------------------------------------------------------------------------------------------\n",
      "  S.NO                 Items                                   Quantity                                                          Price\n",
      "  1                    milk                                     2                                                                   160\n",
      "  2                    rice                                     2                                                                   130\n",
      "  3                    curd                                     1                                                                   50\n",
      "  4                    oats                                     2                                                                   140\n",
      "  ------------------------------------------------------------------------------------------------------------------------------------------------------\n",
      "                                                                                                                    Total_Price: 480\n",
      "                                                                                                                            GST: 24.0\n",
      "                                                                                                                    Final_Price: 504.0\n",
      "  ------------------------------------------------------------------------------------------------------------------------------------------------------\n",
      "                                                              Thank You And Visit Again\n",
      "                                                                  Have A Good Day\n"
     ]
    }
   ],
   "source": [
    "Emp_name =input(\"Enter EMP Name:\")\n",
    "price=0\n",
    "total_price=0\n",
    "items_list=[]\n",
    "quantity_list=[]\n",
    "price_list=[]\n",
    "ilist=[]\n",
    "qlist=[]\n",
    "plist=[]\n",
    "final_amount=0\n",
    "\n",
    "\n",
    "\n",
    "items ={\"maize\":40, \"rice\":65, \"wheat\":55,\n",
    "        \"barley\":50,\"millet\":65,\"oats\":70,\n",
    "        \"apples\":120,\"bananas\":80,\"grapes\":100,\n",
    "        \"oranges\":70,\"strawberries\":100,\"milk\":80,\n",
    "        \"curd\":50,\"butter_milk\":40,\"yoghurt\":70}\n",
    "\n",
    "for i in range(len(items)):\n",
    "    cust_inp=int(input(\"buy or exit:\"))\n",
    "\n",
    "    if cust_inp == 2:\n",
    "        break\n",
    "    \n",
    "    \n",
    "    if cust_inp == 1:\n",
    "        item_list=input(\"enter items:\")\n",
    "        quantity = int(input(\"enter quantity:\"))\n",
    "        if item_list in items.keys():\n",
    "            price=quantity*(items[item_list])\n",
    "            price_list.append((item_list,quantity,price))\n",
    "            ilist.append(item_list)\n",
    "            qlist.append(quantity)\n",
    "            plist.append(price)\n",
    "            total_price += price\n",
    "            gst = (total_price*5)/100\n",
    "            final_price = gst + total_price\n",
    "\n",
    "        else:\n",
    "            print(\"wrong info\")\n",
    "    else:\n",
    "        print(\"wrong input\")\n",
    "        \n",
    "        \n",
    "            \n",
    "if final_price !=0:\n",
    "    print(30*\" \",28*\"=\",\"WELCOME TO HYPER MARKET\",28*\"=\",30*\" \")\n",
    "    print(30*\" \",33*\" \",\"Visakhapatnam\")\n",
    "    print(\" \",\"Emp_name:\",Emp_name,100*\" \",\"Date:\",datetime.now())\n",
    "    print(\" \", 150 *\"-\")\n",
    "    print(\" \",\"S.NO\",15*\" \",\"Items\",33*\" \",\"Quantity \",55*\" \",\"Price\")\n",
    "    for i in range(len(price_list)):\n",
    "        \n",
    "        print(\" \",i+1,    \n",
    "             18*\" \",ilist[i],              \n",
    "             35*\" \",qlist[i],            \n",
    "             65*\" \",plist[i])\n",
    "    \n",
    "    print(\" \",150*\"-\")\n",
    "    print(115*\" \",\"Total_Price:\",total_price)\n",
    "    print(123*\" \",\"GST:\",gst)\n",
    "    print(115*\" \",\"Final_Price:\",final_price)\n",
    "    \n",
    "   \n",
    "    \n",
    "\n",
    "else:\n",
    "     print(\"none\")\n",
    "        \n",
    "        \n",
    "    \n",
    "print(\" \",150*\"-\")    \n",
    "print(30*\" \",30*\" \",\"Thank You And Visit Again\")\n",
    "print(30*\" \",34*\" \",\"Have A Good Day\")\n"
   ]
  },
  {
   "cell_type": "code",
   "execution_count": null,
   "id": "cdf29b5a-61ee-48c5-8fab-9f1aa7a73979",
   "metadata": {},
   "outputs": [],
   "source": []
  },
  {
   "cell_type": "code",
   "execution_count": null,
   "id": "9fa697e8-747c-4f65-92bb-5a1803368c6c",
   "metadata": {},
   "outputs": [],
   "source": []
  }
 ],
 "metadata": {
  "kernelspec": {
   "display_name": "Python 3 (ipykernel)",
   "language": "python",
   "name": "python3"
  },
  "language_info": {
   "codemirror_mode": {
    "name": "ipython",
    "version": 3
   },
   "file_extension": ".py",
   "mimetype": "text/x-python",
   "name": "python",
   "nbconvert_exporter": "python",
   "pygments_lexer": "ipython3",
   "version": "3.11.5"
  }
 },
 "nbformat": 4,
 "nbformat_minor": 5
}
